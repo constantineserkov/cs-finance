{
 "cells": [
  {
   "cell_type": "markdown",
   "id": "5726f1a5-f58e-479c-93b6-beaf1c826cf9",
   "metadata": {},
   "source": [
    "# cs model v.00 (big balz)"
   ]
  },
  {
   "cell_type": "code",
   "execution_count": 10,
   "id": "a00937b9-c309-4a28-82a3-425445d76ce4",
   "metadata": {},
   "outputs": [],
   "source": [
    "# import main libs\n",
    "import numpy as np\n",
    "import pandas as pd"
   ]
  },
  {
   "cell_type": "code",
   "execution_count": 13,
   "id": "84b02c93-67b7-4b09-8b93-b0626cb215d4",
   "metadata": {},
   "outputs": [],
   "source": [
    "df = pd.read_csv(r'../tsla_stock_data.csv').drop([0,1])"
   ]
  },
  {
   "cell_type": "code",
   "execution_count": 16,
   "id": "ac8f07b3-e715-4815-b87a-448ba73a4b1f",
   "metadata": {},
   "outputs": [],
   "source": [
    "df.columns = ['Date', 'Close', 'High', 'Low', 'Open', 'Volume']"
   ]
  },
  {
   "cell_type": "code",
   "execution_count": 33,
   "id": "5cc6c1ce-8614-4f6b-bf5e-5d5dce8284c1",
   "metadata": {},
   "outputs": [],
   "source": [
    "# Convert Date column to datetime if not already\n",
    "df['Date'] = pd.to_datetime(df['Date']).dt.tz_localize(None)\n",
    "numeric_cols = ['Open', 'High', 'Low', 'Close', 'Volume']\n",
    "df[numeric_cols] = df[numeric_cols].apply(pd.to_numeric, errors='coerce')"
   ]
  },
  {
   "cell_type": "code",
   "execution_count": 34,
   "id": "890ab278-139b-4a95-8255-1836d3ba5f9f",
   "metadata": {},
   "outputs": [],
   "source": [
    "df = df.sort_values(by=\"Date\")"
   ]
  },
  {
   "cell_type": "code",
   "execution_count": 35,
   "id": "0f501315-f05c-4234-a998-7ad9e09608a6",
   "metadata": {},
   "outputs": [],
   "source": [
    "# 1️⃣ Daily Return\n",
    "df['Daily_Return'] = (df['Close'] - df['Open']) / df['Open']"
   ]
  },
  {
   "cell_type": "code",
   "execution_count": 36,
   "id": "62e4515b-dd85-42a9-8c07-6b5f9ad030e6",
   "metadata": {},
   "outputs": [],
   "source": [
    "# 2️⃣ Price Momentum (Close Price Difference)\n",
    "df['Price_Momentum'] = df['Close'].diff()"
   ]
  },
  {
   "cell_type": "code",
   "execution_count": 37,
   "id": "b5b428a1-94c6-401b-9a03-62c5aca8b902",
   "metadata": {},
   "outputs": [],
   "source": [
    "# 3️⃣ Volatility (High - Low range)\n",
    "df['Volatility'] = (df['High'] - df['Low']) / df['Close']"
   ]
  },
  {
   "cell_type": "code",
   "execution_count": 38,
   "id": "0ea65d5c-84c2-48cc-91ae-a5cb13e12719",
   "metadata": {},
   "outputs": [],
   "source": [
    "# 4️⃣ Percentage Change from Previous Close\n",
    "df['Pct_Change'] = df['Close'].pct_change() * 100"
   ]
  },
  {
   "cell_type": "code",
   "execution_count": 39,
   "id": "bfbe9202-716b-4770-9641-252e3a79a59f",
   "metadata": {},
   "outputs": [],
   "source": [
    "# 5️⃣ Simple Moving Averages (SMA)\n",
    "df['SMA_5'] = df['Close'].rolling(window=5).mean()\n",
    "df['SMA_10'] = df['Close'].rolling(window=10).mean()"
   ]
  },
  {
   "cell_type": "code",
   "execution_count": 40,
   "id": "8f86f671-2948-4f66-829e-63c1c6e69fb0",
   "metadata": {},
   "outputs": [],
   "source": [
    "# 6️⃣ Exponential Moving Averages (EMA)\n",
    "df['EMA_5'] = df['Close'].ewm(span=5, adjust=False).mean()\n",
    "df['EMA_10'] = df['Close'].ewm(span=10, adjust=False).mean()"
   ]
  },
  {
   "cell_type": "code",
   "execution_count": 41,
   "id": "067751f0-d919-4076-ae15-a16b66b15cce",
   "metadata": {},
   "outputs": [],
   "source": [
    "# 7️⃣ Volume Change\n",
    "df['Volume_Change'] = df['Volume'].diff()"
   ]
  },
  {
   "cell_type": "code",
   "execution_count": 42,
   "id": "c6711078-fddc-4249-9ec9-3315da80cac8",
   "metadata": {},
   "outputs": [],
   "source": [
    "# 8️⃣ Relative Strength Index (RSI)\n",
    "def compute_rsi(series, period=14):\n",
    "    delta = series.diff()\n",
    "    gain = (delta.where(delta > 0, 0)).rolling(window=period).mean()\n",
    "    loss = (-delta.where(delta < 0, 0)).rolling(window=period).mean()\n",
    "    rs = gain / loss\n",
    "    rsi = 100 - (100 / (1 + rs))\n",
    "    return rsi\n",
    "\n",
    "df['RSI_14'] = compute_rsi(df['Close'])"
   ]
  },
  {
   "cell_type": "code",
   "execution_count": 43,
   "id": "8ec8ceec-7d24-4db6-84eb-d1118a8986f6",
   "metadata": {},
   "outputs": [],
   "source": [
    "# Drop NaN values created by rolling calculations\n",
    "df = df.dropna()"
   ]
  },
  {
   "cell_type": "code",
   "execution_count": 44,
   "id": "e9770e0a-f296-4923-b40c-da38cce34467",
   "metadata": {},
   "outputs": [
    {
     "data": {
      "text/html": [
       "<div>\n",
       "<style scoped>\n",
       "    .dataframe tbody tr th:only-of-type {\n",
       "        vertical-align: middle;\n",
       "    }\n",
       "\n",
       "    .dataframe tbody tr th {\n",
       "        vertical-align: top;\n",
       "    }\n",
       "\n",
       "    .dataframe thead th {\n",
       "        text-align: right;\n",
       "    }\n",
       "</style>\n",
       "<table border=\"1\" class=\"dataframe\">\n",
       "  <thead>\n",
       "    <tr style=\"text-align: right;\">\n",
       "      <th></th>\n",
       "      <th>Date</th>\n",
       "      <th>Close</th>\n",
       "      <th>High</th>\n",
       "      <th>Low</th>\n",
       "      <th>Open</th>\n",
       "      <th>Volume</th>\n",
       "      <th>Daily_Return</th>\n",
       "      <th>Price_Momentum</th>\n",
       "      <th>Volatility</th>\n",
       "      <th>Pct_Change</th>\n",
       "      <th>SMA_5</th>\n",
       "      <th>SMA_10</th>\n",
       "      <th>EMA_5</th>\n",
       "      <th>EMA_10</th>\n",
       "      <th>Volume_Change</th>\n",
       "      <th>RSI_14</th>\n",
       "    </tr>\n",
       "  </thead>\n",
       "  <tbody>\n",
       "    <tr>\n",
       "      <th>28</th>\n",
       "      <td>2025-01-24 19:30:00</td>\n",
       "      <td>406.850006</td>\n",
       "      <td>409.750000</td>\n",
       "      <td>406.799988</td>\n",
       "      <td>407.924988</td>\n",
       "      <td>4577294</td>\n",
       "      <td>-0.002635</td>\n",
       "      <td>-1.100006</td>\n",
       "      <td>0.007251</td>\n",
       "      <td>-0.269642</td>\n",
       "      <td>409.984003</td>\n",
       "      <td>411.059491</td>\n",
       "      <td>409.260902</td>\n",
       "      <td>410.665531</td>\n",
       "      <td>-804208.0</td>\n",
       "      <td>28.714975</td>\n",
       "    </tr>\n",
       "    <tr>\n",
       "      <th>29</th>\n",
       "      <td>2025-01-24 20:30:00</td>\n",
       "      <td>406.535004</td>\n",
       "      <td>407.850006</td>\n",
       "      <td>405.779999</td>\n",
       "      <td>406.925110</td>\n",
       "      <td>4577762</td>\n",
       "      <td>-0.000959</td>\n",
       "      <td>-0.315002</td>\n",
       "      <td>0.005092</td>\n",
       "      <td>-0.077425</td>\n",
       "      <td>408.589001</td>\n",
       "      <td>410.474991</td>\n",
       "      <td>408.352269</td>\n",
       "      <td>409.914526</td>\n",
       "      <td>468.0</td>\n",
       "      <td>28.255702</td>\n",
       "    </tr>\n",
       "    <tr>\n",
       "      <th>30</th>\n",
       "      <td>2025-01-27 14:30:00</td>\n",
       "      <td>402.274994</td>\n",
       "      <td>405.759888</td>\n",
       "      <td>393.393005</td>\n",
       "      <td>394.532013</td>\n",
       "      <td>20392868</td>\n",
       "      <td>0.019626</td>\n",
       "      <td>-4.260010</td>\n",
       "      <td>0.030742</td>\n",
       "      <td>-1.047883</td>\n",
       "      <td>406.764001</td>\n",
       "      <td>409.613489</td>\n",
       "      <td>406.326511</td>\n",
       "      <td>408.525520</td>\n",
       "      <td>15815106.0</td>\n",
       "      <td>23.940411</td>\n",
       "    </tr>\n",
       "    <tr>\n",
       "      <th>31</th>\n",
       "      <td>2025-01-27 15:30:00</td>\n",
       "      <td>399.279999</td>\n",
       "      <td>406.669891</td>\n",
       "      <td>398.619995</td>\n",
       "      <td>402.230011</td>\n",
       "      <td>7667701</td>\n",
       "      <td>-0.007334</td>\n",
       "      <td>-2.994995</td>\n",
       "      <td>0.020161</td>\n",
       "      <td>-0.744514</td>\n",
       "      <td>404.578003</td>\n",
       "      <td>408.492990</td>\n",
       "      <td>403.977674</td>\n",
       "      <td>406.844517</td>\n",
       "      <td>-12725167.0</td>\n",
       "      <td>22.144649</td>\n",
       "    </tr>\n",
       "    <tr>\n",
       "      <th>32</th>\n",
       "      <td>2025-01-27 16:30:00</td>\n",
       "      <td>397.154785</td>\n",
       "      <td>401.507599</td>\n",
       "      <td>395.050110</td>\n",
       "      <td>399.329987</td>\n",
       "      <td>5533368</td>\n",
       "      <td>-0.005447</td>\n",
       "      <td>-2.125214</td>\n",
       "      <td>0.016259</td>\n",
       "      <td>-0.532261</td>\n",
       "      <td>402.418958</td>\n",
       "      <td>406.971469</td>\n",
       "      <td>401.703377</td>\n",
       "      <td>405.082747</td>\n",
       "      <td>-2134333.0</td>\n",
       "      <td>22.389465</td>\n",
       "    </tr>\n",
       "  </tbody>\n",
       "</table>\n",
       "</div>"
      ],
      "text/plain": [
       "                  Date       Close        High         Low        Open  \\\n",
       "28 2025-01-24 19:30:00  406.850006  409.750000  406.799988  407.924988   \n",
       "29 2025-01-24 20:30:00  406.535004  407.850006  405.779999  406.925110   \n",
       "30 2025-01-27 14:30:00  402.274994  405.759888  393.393005  394.532013   \n",
       "31 2025-01-27 15:30:00  399.279999  406.669891  398.619995  402.230011   \n",
       "32 2025-01-27 16:30:00  397.154785  401.507599  395.050110  399.329987   \n",
       "\n",
       "      Volume  Daily_Return  Price_Momentum  Volatility  Pct_Change  \\\n",
       "28   4577294     -0.002635       -1.100006    0.007251   -0.269642   \n",
       "29   4577762     -0.000959       -0.315002    0.005092   -0.077425   \n",
       "30  20392868      0.019626       -4.260010    0.030742   -1.047883   \n",
       "31   7667701     -0.007334       -2.994995    0.020161   -0.744514   \n",
       "32   5533368     -0.005447       -2.125214    0.016259   -0.532261   \n",
       "\n",
       "         SMA_5      SMA_10       EMA_5      EMA_10  Volume_Change     RSI_14  \n",
       "28  409.984003  411.059491  409.260902  410.665531      -804208.0  28.714975  \n",
       "29  408.589001  410.474991  408.352269  409.914526          468.0  28.255702  \n",
       "30  406.764001  409.613489  406.326511  408.525520     15815106.0  23.940411  \n",
       "31  404.578003  408.492990  403.977674  406.844517    -12725167.0  22.144649  \n",
       "32  402.418958  406.971469  401.703377  405.082747     -2134333.0  22.389465  "
      ]
     },
     "execution_count": 44,
     "metadata": {},
     "output_type": "execute_result"
    }
   ],
   "source": [
    "df.head()"
   ]
  },
  {
   "cell_type": "code",
   "execution_count": 45,
   "id": "2e766e4c-45f7-43eb-90c1-517f226ea364",
   "metadata": {},
   "outputs": [],
   "source": [
    "df.to_csv(\"tsla_stock_data_with_features.csv\", index=False)"
   ]
  },
  {
   "cell_type": "code",
   "execution_count": null,
   "id": "ddf7c125-c4a8-49c8-9c25-60769467d708",
   "metadata": {},
   "outputs": [],
   "source": []
  }
 ],
 "metadata": {
  "kernelspec": {
   "display_name": "Python 3 (ipykernel)",
   "language": "python",
   "name": "python3"
  },
  "language_info": {
   "codemirror_mode": {
    "name": "ipython",
    "version": 3
   },
   "file_extension": ".py",
   "mimetype": "text/x-python",
   "name": "python",
   "nbconvert_exporter": "python",
   "pygments_lexer": "ipython3",
   "version": "3.11.7"
  }
 },
 "nbformat": 4,
 "nbformat_minor": 5
}
