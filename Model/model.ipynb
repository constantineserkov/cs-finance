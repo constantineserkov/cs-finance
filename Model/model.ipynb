{
 "cells": [
  {
   "cell_type": "markdown",
   "id": "5726f1a5-f58e-479c-93b6-beaf1c826cf9",
   "metadata": {},
   "source": [
    "# cs model v.00 (big balz)"
   ]
  },
  {
   "cell_type": "code",
   "execution_count": 5,
   "id": "a00937b9-c309-4a28-82a3-425445d76ce4",
   "metadata": {},
   "outputs": [],
   "source": [
    "# import main libs\n",
    "import numpy as np\n",
    "import pandas as pd"
   ]
  },
  {
   "cell_type": "code",
   "execution_count": null,
   "id": "84b02c93-67b7-4b09-8b93-b0626cb215d4",
   "metadata": {},
   "outputs": [],
   "source": []
  }
 ],
 "metadata": {
  "kernelspec": {
   "display_name": "Python 3 (ipykernel)",
   "language": "python",
   "name": "python3"
  },
  "language_info": {
   "codemirror_mode": {
    "name": "ipython",
    "version": 3
   },
   "file_extension": ".py",
   "mimetype": "text/x-python",
   "name": "python",
   "nbconvert_exporter": "python",
   "pygments_lexer": "ipython3",
   "version": "3.11.7"
  }
 },
 "nbformat": 4,
 "nbformat_minor": 5
}
