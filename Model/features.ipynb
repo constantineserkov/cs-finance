{
 "cells": [
  {
   "cell_type": "markdown",
   "id": "7611b22b-64cf-4ce6-8056-1f2f616da30e",
   "metadata": {},
   "source": [
    "# cs setting features for the v.00 (big balz) model"
   ]
  },
  {
   "cell_type": "code",
   "execution_count": 1,
   "id": "a00937b9-c309-4a28-82a3-425445d76ce4",
   "metadata": {},
   "outputs": [],
   "source": [
    "# import main libs\n",
    "import numpy as np\n",
    "import pandas as pd"
   ]
  },
  {
   "cell_type": "code",
   "execution_count": 2,
   "id": "84b02c93-67b7-4b09-8b93-b0626cb215d4",
   "metadata": {},
   "outputs": [],
   "source": [
    "# df = pd.read_csv(r'../tsla_stock_data.csv').drop([0,1]) # 1 month of data\n",
    "# df = pd.read_csv(r'../tsla_stock_data_1y.csv').drop([0,1]) # 1 year of data\n",
    "df = pd.read_csv(r'../tsla_stock_data_2y.csv').drop([0,1]) # 2 years of data"
   ]
  },
  {
   "cell_type": "code",
   "execution_count": 3,
   "id": "ac8f07b3-e715-4815-b87a-448ba73a4b1f",
   "metadata": {},
   "outputs": [],
   "source": [
    "df.columns = ['Date', 'Close', 'High', 'Low', 'Open', 'Volume']"
   ]
  },
  {
   "cell_type": "code",
   "execution_count": 4,
   "id": "5cc6c1ce-8614-4f6b-bf5e-5d5dce8284c1",
   "metadata": {},
   "outputs": [],
   "source": [
    "# Convert Date column to datetime if not already\n",
    "df['Date'] = pd.to_datetime(df['Date']).dt.tz_localize(None)\n",
    "numeric_cols = ['Open', 'High', 'Low', 'Close', 'Volume']\n",
    "df[numeric_cols] = df[numeric_cols].apply(pd.to_numeric, errors='coerce')"
   ]
  },
  {
   "cell_type": "code",
   "execution_count": 5,
   "id": "890ab278-139b-4a95-8255-1836d3ba5f9f",
   "metadata": {},
   "outputs": [],
   "source": [
    "df = df.sort_values(by=\"Date\")"
   ]
  },
  {
   "cell_type": "code",
   "execution_count": 6,
   "id": "0f501315-f05c-4234-a998-7ad9e09608a6",
   "metadata": {},
   "outputs": [],
   "source": [
    "# 1️⃣ Daily Return\n",
    "df['Daily_Return'] = (df['Close'] - df['Open']) / df['Open']"
   ]
  },
  {
   "cell_type": "code",
   "execution_count": 7,
   "id": "62e4515b-dd85-42a9-8c07-6b5f9ad030e6",
   "metadata": {},
   "outputs": [],
   "source": [
    "# 2️⃣ Price Momentum (Close Price Difference)\n",
    "df['Price_Momentum'] = df['Close'].diff()"
   ]
  },
  {
   "cell_type": "code",
   "execution_count": 8,
   "id": "b5b428a1-94c6-401b-9a03-62c5aca8b902",
   "metadata": {},
   "outputs": [],
   "source": [
    "# 3️⃣ Volatility (High - Low range)\n",
    "df['Volatility'] = (df['High'] - df['Low']) / df['Close']"
   ]
  },
  {
   "cell_type": "code",
   "execution_count": 9,
   "id": "0ea65d5c-84c2-48cc-91ae-a5cb13e12719",
   "metadata": {},
   "outputs": [],
   "source": [
    "# 4️⃣ Percentage Change from Previous Close\n",
    "df['Pct_Change'] = df['Close'].pct_change() * 100"
   ]
  },
  {
   "cell_type": "code",
   "execution_count": 10,
   "id": "bfbe9202-716b-4770-9641-252e3a79a59f",
   "metadata": {},
   "outputs": [],
   "source": [
    "# 5️⃣ Simple Moving Averages (SMA)\n",
    "df['SMA_5'] = df['Close'].rolling(window=5).mean()\n",
    "df['SMA_10'] = df['Close'].rolling(window=10).mean()"
   ]
  },
  {
   "cell_type": "code",
   "execution_count": 11,
   "id": "8f86f671-2948-4f66-829e-63c1c6e69fb0",
   "metadata": {},
   "outputs": [],
   "source": [
    "# 6️⃣ Exponential Moving Averages (EMA)\n",
    "df['EMA_5'] = df['Close'].ewm(span=5, adjust=False).mean()\n",
    "df['EMA_10'] = df['Close'].ewm(span=10, adjust=False).mean()"
   ]
  },
  {
   "cell_type": "code",
   "execution_count": 12,
   "id": "067751f0-d919-4076-ae15-a16b66b15cce",
   "metadata": {},
   "outputs": [],
   "source": [
    "# 7️⃣ Volume Change\n",
    "df['Volume_Change'] = df['Volume'].diff()"
   ]
  },
  {
   "cell_type": "code",
   "execution_count": 13,
   "id": "c6711078-fddc-4249-9ec9-3315da80cac8",
   "metadata": {},
   "outputs": [],
   "source": [
    "# 8️⃣ Relative Strength Index (RSI)\n",
    "def compute_rsi(series, period=14):\n",
    "    delta = series.diff()\n",
    "    gain = (delta.where(delta > 0, 0)).rolling(window=period).mean()\n",
    "    loss = (-delta.where(delta < 0, 0)).rolling(window=period).mean()\n",
    "    rs = gain / loss\n",
    "    rsi = 100 - (100 / (1 + rs))\n",
    "    return rsi\n",
    "\n",
    "df['RSI_14'] = compute_rsi(df['Close'])"
   ]
  },
  {
   "cell_type": "code",
   "execution_count": 14,
   "id": "8ec8ceec-7d24-4db6-84eb-d1118a8986f6",
   "metadata": {},
   "outputs": [],
   "source": [
    "# Drop NaN values created by rolling calculations\n",
    "df = df.dropna()"
   ]
  },
  {
   "cell_type": "code",
   "execution_count": 15,
   "id": "e9770e0a-f296-4923-b40c-da38cce34467",
   "metadata": {},
   "outputs": [],
   "source": [
    "# Time-Based Features\n",
    "# ----------------------------\n",
    "df['Hour'] = df['Date'].dt.hour\n",
    "df['DayOfWeek'] = df['Date'].dt.dayofweek  # Monday=0, Sunday=6"
   ]
  },
  {
   "cell_type": "code",
   "execution_count": 16,
   "id": "2eb02f31-dc81-4136-9185-423a92e97128",
   "metadata": {},
   "outputs": [],
   "source": [
    "# MACD: Moving Average Convergence Divergence\n",
    "# ----------------------------\n",
    "ema12 = df['Close'].ewm(span=12, adjust=False).mean()\n",
    "ema26 = df['Close'].ewm(span=26, adjust=False).mean()\n",
    "df['MACD'] = ema12 - ema26\n",
    "df['MACD_Signal'] = df['MACD'].ewm(span=9, adjust=False).mean()"
   ]
  },
  {
   "cell_type": "code",
   "execution_count": 17,
   "id": "d8b0f10e-3eed-4fe7-a5ff-3f4121a18498",
   "metadata": {},
   "outputs": [],
   "source": [
    "# Bollinger Bands (using a 20-period SMA)\n",
    "# ----------------------------\n",
    "df['SMA20'] = df['Close'].rolling(window=20).mean()\n",
    "df['STD20'] = df['Close'].rolling(window=20).std()\n",
    "df['Bollinger_Upper'] = df['SMA20'] + (2 * df['STD20'])\n",
    "df['Bollinger_Lower'] = df['SMA20'] - (2 * df['STD20'])"
   ]
  },
  {
   "cell_type": "code",
   "execution_count": 18,
   "id": "1e97b69d-9d7b-4983-8f6c-8006392abcde",
   "metadata": {},
   "outputs": [],
   "source": [
    "# ATR: Average True Range (using a 14-period rolling mean)\n",
    "# ----------------------------\n",
    "# Calculate previous close\n",
    "df['Previous_Close'] = df['Close'].shift(1)\n",
    "# True Range (TR) is the maximum of:\n",
    "#   a) High - Low,\n",
    "#   b) abs(High - Previous Close),\n",
    "#   c) abs(Low - Previous Close)\n",
    "df['High_Low'] = df['High'] - df['Low']\n",
    "df['High_PC'] = (df['High'] - df['Previous_Close']).abs()\n",
    "df['Low_PC'] = (df['Low'] - df['Previous_Close']).abs()\n",
    "df['TR'] = df[['High_Low', 'High_PC', 'Low_PC']].max(axis=1)\n",
    "df['ATR'] = df['TR'].rolling(window=14).mean()"
   ]
  },
  {
   "cell_type": "code",
   "execution_count": 19,
   "id": "58971b3a-377f-4f42-ac00-cf104d848027",
   "metadata": {},
   "outputs": [],
   "source": [
    "# OBV: On-Balance Volume\n",
    "\n",
    "# Initialize OBV starting at zero\n",
    "obv = [0]\n",
    "for i in range(1, len(df)):\n",
    "    if df['Close'].iloc[i] > df['Close'].iloc[i-1]:\n",
    "        obv.append(obv[-1] + df['Volume'].iloc[i])\n",
    "    elif df['Close'].iloc[i] < df['Close'].iloc[i-1]:\n",
    "        obv.append(obv[-1] - df['Volume'].iloc[i])\n",
    "    else:\n",
    "        obv.append(obv[-1])\n",
    "df['OBV'] = obv"
   ]
  },
  {
   "cell_type": "code",
   "execution_count": 20,
   "id": "17e67457-5a98-4b60-95be-a46c4cb186fe",
   "metadata": {},
   "outputs": [],
   "source": [
    "# Stochastic Oscillator\n",
    "# ----------------------------\n",
    "# Use a 14-period window\n",
    "period = 14\n",
    "df['Lowest_Low'] = df['Low'].rolling(window=period).min()\n",
    "df['Highest_High'] = df['High'].rolling(window=period).max()\n",
    "df['Stochastic_%K'] = ((df['Close'] - df['Lowest_Low']) / (df['Highest_High'] - df['Lowest_Low'])) * 100\n",
    "# %D is a 3-period SMA of %K\n",
    "df['Stochastic_%D'] = df['Stochastic_%K'].rolling(window=3).mean()"
   ]
  },
  {
   "cell_type": "code",
   "execution_count": 21,
   "id": "deb33f84-f299-4808-8d64-cb444a61c2f5",
   "metadata": {},
   "outputs": [],
   "source": [
    "# Create lagged features for the closing price from t-9 to t-1\n",
    "for lag in range(1, 10):  # This creates columns: Lag_Close_1, ..., Lag_Close_9\n",
    "    df[f'Lag_Close_{lag}'] = df['Close'].shift(lag)"
   ]
  },
  {
   "cell_type": "code",
   "execution_count": 22,
   "id": "9c63c395-d2bf-45a2-b8da-b7e989ad341b",
   "metadata": {},
   "outputs": [],
   "source": [
    "# Cleanup: Drop intermediate columns and any resulting NaNs\n",
    "# ----------------------------\n",
    "cols_to_drop = ['Previous_Close', 'High_Low', 'High_PC', 'Low_PC', 'TR', 'STD20', 'Lowest_Low', 'Highest_High']\n",
    "df.drop(columns=cols_to_drop, inplace=True)\n",
    "df.dropna(inplace=True)"
   ]
  },
  {
   "cell_type": "code",
   "execution_count": 23,
   "id": "2e766e4c-45f7-43eb-90c1-517f226ea364",
   "metadata": {},
   "outputs": [],
   "source": [
    "# df.to_csv(\"tsla_stock_data_with_features.csv\", index=False)\n",
    "# df.to_csv(\"tsla_stock_data_with_features_1y.csv\", index=False)\n",
    "df.to_csv(\"tsla_stock_data_with_features_2y.csv\", index=False)"
   ]
  },
  {
   "cell_type": "code",
   "execution_count": 24,
   "id": "ddf7c125-c4a8-49c8-9c25-60769467d708",
   "metadata": {},
   "outputs": [
    {
     "data": {
      "text/plain": [
       "Index(['Date', 'Close', 'High', 'Low', 'Open', 'Volume', 'Daily_Return',\n",
       "       'Price_Momentum', 'Volatility', 'Pct_Change', 'SMA_5', 'SMA_10',\n",
       "       'EMA_5', 'EMA_10', 'Volume_Change', 'RSI_14', 'Hour', 'DayOfWeek',\n",
       "       'MACD', 'MACD_Signal', 'SMA20', 'Bollinger_Upper', 'Bollinger_Lower',\n",
       "       'ATR', 'OBV', 'Stochastic_%K', 'Stochastic_%D', 'Lag_Close_1',\n",
       "       'Lag_Close_2', 'Lag_Close_3', 'Lag_Close_4', 'Lag_Close_5',\n",
       "       'Lag_Close_6', 'Lag_Close_7', 'Lag_Close_8', 'Lag_Close_9'],\n",
       "      dtype='object')"
      ]
     },
     "execution_count": 24,
     "metadata": {},
     "output_type": "execute_result"
    }
   ],
   "source": [
    "df.columns"
   ]
  },
  {
   "cell_type": "code",
   "execution_count": 25,
   "id": "c9431b29-6bfc-458a-a008-4694d4e4a90f",
   "metadata": {},
   "outputs": [
    {
     "data": {
      "text/html": [
       "<div>\n",
       "<style scoped>\n",
       "    .dataframe tbody tr th:only-of-type {\n",
       "        vertical-align: middle;\n",
       "    }\n",
       "\n",
       "    .dataframe tbody tr th {\n",
       "        vertical-align: top;\n",
       "    }\n",
       "\n",
       "    .dataframe thead th {\n",
       "        text-align: right;\n",
       "    }\n",
       "</style>\n",
       "<table border=\"1\" class=\"dataframe\">\n",
       "  <thead>\n",
       "    <tr style=\"text-align: right;\">\n",
       "      <th></th>\n",
       "      <th>Date</th>\n",
       "      <th>Close</th>\n",
       "      <th>High</th>\n",
       "      <th>Low</th>\n",
       "      <th>Open</th>\n",
       "      <th>Volume</th>\n",
       "      <th>Daily_Return</th>\n",
       "      <th>Price_Momentum</th>\n",
       "      <th>Volatility</th>\n",
       "      <th>Pct_Change</th>\n",
       "      <th>...</th>\n",
       "      <th>Stochastic_%D</th>\n",
       "      <th>Lag_Close_1</th>\n",
       "      <th>Lag_Close_2</th>\n",
       "      <th>Lag_Close_3</th>\n",
       "      <th>Lag_Close_4</th>\n",
       "      <th>Lag_Close_5</th>\n",
       "      <th>Lag_Close_6</th>\n",
       "      <th>Lag_Close_7</th>\n",
       "      <th>Lag_Close_8</th>\n",
       "      <th>Lag_Close_9</th>\n",
       "    </tr>\n",
       "  </thead>\n",
       "  <tbody>\n",
       "    <tr>\n",
       "      <th>34</th>\n",
       "      <td>2023-02-27 18:30:00</td>\n",
       "      <td>209.119995</td>\n",
       "      <td>209.419998</td>\n",
       "      <td>206.559998</td>\n",
       "      <td>207.169998</td>\n",
       "      <td>19739423</td>\n",
       "      <td>0.009413</td>\n",
       "      <td>1.959900</td>\n",
       "      <td>0.013676</td>\n",
       "      <td>0.946080</td>\n",
       "      <td>...</td>\n",
       "      <td>90.881423</td>\n",
       "      <td>207.160095</td>\n",
       "      <td>205.339996</td>\n",
       "      <td>205.554794</td>\n",
       "      <td>207.029999</td>\n",
       "      <td>196.862000</td>\n",
       "      <td>196.199997</td>\n",
       "      <td>195.729904</td>\n",
       "      <td>195.522003</td>\n",
       "      <td>195.925003</td>\n",
       "    </tr>\n",
       "    <tr>\n",
       "      <th>35</th>\n",
       "      <td>2023-02-27 19:30:00</td>\n",
       "      <td>208.068695</td>\n",
       "      <td>209.179993</td>\n",
       "      <td>207.240005</td>\n",
       "      <td>209.125000</td>\n",
       "      <td>18528196</td>\n",
       "      <td>-0.005051</td>\n",
       "      <td>-1.051300</td>\n",
       "      <td>0.009324</td>\n",
       "      <td>-0.502726</td>\n",
       "      <td>...</td>\n",
       "      <td>94.396920</td>\n",
       "      <td>209.119995</td>\n",
       "      <td>207.160095</td>\n",
       "      <td>205.339996</td>\n",
       "      <td>205.554794</td>\n",
       "      <td>207.029999</td>\n",
       "      <td>196.862000</td>\n",
       "      <td>196.199997</td>\n",
       "      <td>195.729904</td>\n",
       "      <td>195.522003</td>\n",
       "    </tr>\n",
       "    <tr>\n",
       "      <th>36</th>\n",
       "      <td>2023-02-27 20:30:00</td>\n",
       "      <td>207.660004</td>\n",
       "      <td>208.139999</td>\n",
       "      <td>206.350006</td>\n",
       "      <td>208.067001</td>\n",
       "      <td>12161446</td>\n",
       "      <td>-0.001956</td>\n",
       "      <td>-0.408691</td>\n",
       "      <td>0.008620</td>\n",
       "      <td>-0.196421</td>\n",
       "      <td>...</td>\n",
       "      <td>93.158240</td>\n",
       "      <td>208.068695</td>\n",
       "      <td>209.119995</td>\n",
       "      <td>207.160095</td>\n",
       "      <td>205.339996</td>\n",
       "      <td>205.554794</td>\n",
       "      <td>207.029999</td>\n",
       "      <td>196.862000</td>\n",
       "      <td>196.199997</td>\n",
       "      <td>195.729904</td>\n",
       "    </tr>\n",
       "    <tr>\n",
       "      <th>37</th>\n",
       "      <td>2023-02-28 14:30:00</td>\n",
       "      <td>205.132095</td>\n",
       "      <td>211.229996</td>\n",
       "      <td>204.820007</td>\n",
       "      <td>210.589996</td>\n",
       "      <td>46960347</td>\n",
       "      <td>-0.025917</td>\n",
       "      <td>-2.527908</td>\n",
       "      <td>0.031248</td>\n",
       "      <td>-1.217330</td>\n",
       "      <td>...</td>\n",
       "      <td>82.243590</td>\n",
       "      <td>207.660004</td>\n",
       "      <td>208.068695</td>\n",
       "      <td>209.119995</td>\n",
       "      <td>207.160095</td>\n",
       "      <td>205.339996</td>\n",
       "      <td>205.554794</td>\n",
       "      <td>207.029999</td>\n",
       "      <td>196.862000</td>\n",
       "      <td>196.199997</td>\n",
       "    </tr>\n",
       "    <tr>\n",
       "      <th>38</th>\n",
       "      <td>2023-02-28 15:30:00</td>\n",
       "      <td>205.275696</td>\n",
       "      <td>206.330002</td>\n",
       "      <td>203.750000</td>\n",
       "      <td>205.119995</td>\n",
       "      <td>24086375</td>\n",
       "      <td>0.000759</td>\n",
       "      <td>0.143600</td>\n",
       "      <td>0.012568</td>\n",
       "      <td>0.070004</td>\n",
       "      <td>...</td>\n",
       "      <td>73.434533</td>\n",
       "      <td>205.132095</td>\n",
       "      <td>207.660004</td>\n",
       "      <td>208.068695</td>\n",
       "      <td>209.119995</td>\n",
       "      <td>207.160095</td>\n",
       "      <td>205.339996</td>\n",
       "      <td>205.554794</td>\n",
       "      <td>207.029999</td>\n",
       "      <td>196.862000</td>\n",
       "    </tr>\n",
       "  </tbody>\n",
       "</table>\n",
       "<p>5 rows × 36 columns</p>\n",
       "</div>"
      ],
      "text/plain": [
       "                  Date       Close        High         Low        Open  \\\n",
       "34 2023-02-27 18:30:00  209.119995  209.419998  206.559998  207.169998   \n",
       "35 2023-02-27 19:30:00  208.068695  209.179993  207.240005  209.125000   \n",
       "36 2023-02-27 20:30:00  207.660004  208.139999  206.350006  208.067001   \n",
       "37 2023-02-28 14:30:00  205.132095  211.229996  204.820007  210.589996   \n",
       "38 2023-02-28 15:30:00  205.275696  206.330002  203.750000  205.119995   \n",
       "\n",
       "      Volume  Daily_Return  Price_Momentum  Volatility  Pct_Change  ...  \\\n",
       "34  19739423      0.009413        1.959900    0.013676    0.946080  ...   \n",
       "35  18528196     -0.005051       -1.051300    0.009324   -0.502726  ...   \n",
       "36  12161446     -0.001956       -0.408691    0.008620   -0.196421  ...   \n",
       "37  46960347     -0.025917       -2.527908    0.031248   -1.217330  ...   \n",
       "38  24086375      0.000759        0.143600    0.012568    0.070004  ...   \n",
       "\n",
       "    Stochastic_%D  Lag_Close_1  Lag_Close_2  Lag_Close_3  Lag_Close_4  \\\n",
       "34      90.881423   207.160095   205.339996   205.554794   207.029999   \n",
       "35      94.396920   209.119995   207.160095   205.339996   205.554794   \n",
       "36      93.158240   208.068695   209.119995   207.160095   205.339996   \n",
       "37      82.243590   207.660004   208.068695   209.119995   207.160095   \n",
       "38      73.434533   205.132095   207.660004   208.068695   209.119995   \n",
       "\n",
       "    Lag_Close_5  Lag_Close_6  Lag_Close_7  Lag_Close_8  Lag_Close_9  \n",
       "34   196.862000   196.199997   195.729904   195.522003   195.925003  \n",
       "35   207.029999   196.862000   196.199997   195.729904   195.522003  \n",
       "36   205.554794   207.029999   196.862000   196.199997   195.729904  \n",
       "37   205.339996   205.554794   207.029999   196.862000   196.199997  \n",
       "38   207.160095   205.339996   205.554794   207.029999   196.862000  \n",
       "\n",
       "[5 rows x 36 columns]"
      ]
     },
     "execution_count": 25,
     "metadata": {},
     "output_type": "execute_result"
    }
   ],
   "source": [
    "df.head()"
   ]
  },
  {
   "cell_type": "code",
   "execution_count": null,
   "id": "33224685-f0ca-4e26-aae7-93d507736b86",
   "metadata": {},
   "outputs": [],
   "source": []
  }
 ],
 "metadata": {
  "kernelspec": {
   "display_name": "Python 3 (ipykernel)",
   "language": "python",
   "name": "python3"
  },
  "language_info": {
   "codemirror_mode": {
    "name": "ipython",
    "version": 3
   },
   "file_extension": ".py",
   "mimetype": "text/x-python",
   "name": "python",
   "nbconvert_exporter": "python",
   "pygments_lexer": "ipython3",
   "version": "3.11.7"
  }
 },
 "nbformat": 4,
 "nbformat_minor": 5
}
